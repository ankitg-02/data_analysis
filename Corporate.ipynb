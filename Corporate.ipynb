{
  "nbformat": 4,
  "nbformat_minor": 0,
  "metadata": {
    "colab": {
      "provenance": [],
      "authorship_tag": "ABX9TyPDtUh1k8arxWV/mvIKApKB",
      "include_colab_link": true
    },
    "kernelspec": {
      "name": "python3",
      "display_name": "Python 3"
    },
    "language_info": {
      "name": "python"
    }
  },
  "cells": [
    {
      "cell_type": "markdown",
      "metadata": {
        "id": "view-in-github",
        "colab_type": "text"
      },
      "source": [
        "<a href=\"https://colab.research.google.com/github/ankitg-02/data_analysis/blob/main/Corporate.ipynb\" target=\"_parent\"><img src=\"https://colab.research.google.com/assets/colab-badge.svg\" alt=\"Open In Colab\"/></a>"
      ]
    },
    {
      "cell_type": "code",
      "execution_count": 1,
      "metadata": {
        "id": "AKkTZ29Aa5wU"
      },
      "outputs": [],
      "source": [
        "import pandas as pd\n",
        "import numpy as np\n",
        "import matplotlib.pyplot as plt\n"
      ]
    },
    {
      "cell_type": "code",
      "source": [
        "corporate_sales=pd.read_excel(\"/content/Sample-sales-data-excel.xls\")"
      ],
      "metadata": {
        "id": "FSGNHxJ-bSeE"
      },
      "execution_count": 2,
      "outputs": []
    },
    {
      "cell_type": "code",
      "source": [
        "#count of corporate\n",
        "count_corporate=0\n",
        "for i in corporate_sales['Segment']:\n",
        "  if i=='Corporate':\n",
        "    count_corporate+=1\n",
        "print(\"count of corporates=\",count_corporate)\n",
        "#count of products under category section from the copoerate segment\n",
        "record_corporate=corporate_sales.groupby('Segment')\n",
        "print(record_corporate.Category.get_group(\"Corporate\").value_counts())"
      ],
      "metadata": {
        "colab": {
          "base_uri": "https://localhost:8080/"
        },
        "id": "j06WFvQHbWWa",
        "outputId": "6f7669e7-2392-4e7c-9417-9c6ffd9847f9"
      },
      "execution_count": 3,
      "outputs": [
        {
          "output_type": "stream",
          "name": "stdout",
          "text": [
            "count of corporates= 3020\n",
            "Office Supplies    1820\n",
            "Furniture           646\n",
            "Technology          554\n",
            "Name: Category, dtype: int64\n"
          ]
        }
      ]
    },
    {
      "cell_type": "code",
      "source": [
        "Corporate=np.array(corporate_sales.groupby('Segment'))"
      ],
      "metadata": {
        "id": "kOhy2W78bwPO",
        "outputId": "8b654ace-204e-4ca9-e0a6-fde0702ea960",
        "colab": {
          "base_uri": "https://localhost:8080/"
        }
      },
      "execution_count": 4,
      "outputs": [
        {
          "output_type": "stream",
          "name": "stderr",
          "text": [
            "<ipython-input-4-e5a7983ffbc8>:1: VisibleDeprecationWarning: Creating an ndarray from ragged nested sequences (which is a list-or-tuple of lists-or-tuples-or ndarrays with different lengths or shapes) is deprecated. If you meant to do this, you must specify 'dtype=object' when creating the ndarray.\n",
            "  Categroy_by_Corporate=np.array(corporate_sales.groupby('Segment'))\n"
          ]
        }
      ]
    },
    {
      "cell_type": "code",
      "source": [],
      "metadata": {
        "id": "R33rmMyI5i0i"
      },
      "execution_count": null,
      "outputs": []
    }
  ]
}