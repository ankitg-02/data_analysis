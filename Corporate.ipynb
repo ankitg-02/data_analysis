{
  "nbformat": 4,
  "nbformat_minor": 0,
  "metadata": {
    "colab": {
      "provenance": [],
      "authorship_tag": "ABX9TyOQ+pFpuoWrGJW3OVKPzu2I",
      "include_colab_link": true
    },
    "kernelspec": {
      "name": "python3",
      "display_name": "Python 3"
    },
    "language_info": {
      "name": "python"
    }
  },
  "cells": [
    {
      "cell_type": "markdown",
      "metadata": {
        "id": "view-in-github",
        "colab_type": "text"
      },
      "source": [
        "<a href=\"https://colab.research.google.com/github/ankitg-02/data_analysis/blob/main/Corporate.ipynb\" target=\"_parent\"><img src=\"https://colab.research.google.com/assets/colab-badge.svg\" alt=\"Open In Colab\"/></a>"
      ]
    },
    {
      "cell_type": "code",
      "execution_count": 2,
      "metadata": {
        "id": "AKkTZ29Aa5wU"
      },
      "outputs": [],
      "source": [
        "import pandas as pd"
      ]
    },
    {
      "cell_type": "code",
      "source": [
        "corporate_sales=pd.read_excel(\"/content/Sample-sales-data-excel.xls\")"
      ],
      "metadata": {
        "id": "FSGNHxJ-bSeE"
      },
      "execution_count": 3,
      "outputs": []
    },
    {
      "cell_type": "code",
      "source": [
        "count_corporate=0\n",
        "for i in corporate_sales['Segment']:\n",
        "  if i=='Corporate':\n",
        "    count_corporate+=1\n",
        "print(\"count of corporates=\",count_corporate)\n",
        "record_corporate=corporate_sales.groupby('Segment')\n",
        "print(record_corporate.Category.get_group(\"Corporate\").value_counts())"
      ],
      "metadata": {
        "colab": {
          "base_uri": "https://localhost:8080/"
        },
        "id": "j06WFvQHbWWa",
        "outputId": "3d371108-f10d-4300-aea9-e7a3917aa540"
      },
      "execution_count": 8,
      "outputs": [
        {
          "output_type": "stream",
          "name": "stdout",
          "text": [
            "count of corporates= 3020\n",
            "Office Supplies    1820\n",
            "Furniture           646\n",
            "Technology          554\n",
            "Name: Category, dtype: int64\n"
          ]
        }
      ]
    },
    {
      "cell_type": "code",
      "source": [],
      "metadata": {
        "id": "kOhy2W78bwPO"
      },
      "execution_count": null,
      "outputs": []
    }
  ]
}