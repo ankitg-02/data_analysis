{
  "nbformat": 4,
  "nbformat_minor": 0,
  "metadata": {
    "colab": {
      "provenance": [],
      "authorship_tag": "ABX9TyMft8h/I1nX6BBH+1uDrqj/",
      "include_colab_link": true
    },
    "kernelspec": {
      "name": "python3",
      "display_name": "Python 3"
    },
    "language_info": {
      "name": "python"
    }
  },
  "cells": [
    {
      "cell_type": "markdown",
      "metadata": {
        "id": "view-in-github",
        "colab_type": "text"
      },
      "source": [
        "<a href=\"https://colab.research.google.com/github/ankitg-02/data_analysis/blob/main/consumer.ipynb\" target=\"_parent\"><img src=\"https://colab.research.google.com/assets/colab-badge.svg\" alt=\"Open In Colab\"/></a>"
      ]
    },
    {
      "cell_type": "code",
      "execution_count": null,
      "metadata": {
        "id": "BgG8BI_ruZ9C"
      },
      "outputs": [],
      "source": [
        "import pandas as pd"
      ]
    },
    {
      "cell_type": "code",
      "source": [
        "consumer_sales=pd.read_excel(\"/content/Sample-sales-data-excel.xls\")"
      ],
      "metadata": {
        "id": "efaInDn1wbwM"
      },
      "execution_count": null,
      "outputs": []
    },
    {
      "cell_type": "code",
      "source": [
        "count_conumer=0\n",
        "for i in consumer_sales['Segment']:\n",
        "  if i=='Consumer':\n",
        "    count_conumer+=1\n",
        "print(\"count of conumers=\",count_conumer)"
      ],
      "metadata": {
        "colab": {
          "base_uri": "https://localhost:8080/"
        },
        "id": "oVla36zIwx3F",
        "outputId": "3cbc3390-d031-4ac4-8fc9-4ac388931031"
      },
      "execution_count": null,
      "outputs": [
        {
          "output_type": "stream",
          "name": "stdout",
          "text": [
            "count of conumers= 5191\n"
          ]
        }
      ]
    },
    {
      "cell_type": "code",
      "source": [
        "record=consumer_sales.groupby('Segment')\n",
        "print(record.Category.get_group(\"Consumer\").value_counts())\n"
      ],
      "metadata": {
        "colab": {
          "base_uri": "https://localhost:8080/"
        },
        "id": "J64C8Xs6skT0",
        "outputId": "c0cf9ab4-5030-4361-dbb2-85ec390c48b7"
      },
      "execution_count": 34,
      "outputs": [
        {
          "output_type": "stream",
          "name": "stdout",
          "text": [
            "Office Supplies    3127\n",
            "Furniture          1113\n",
            "Technology          951\n",
            "Name: Category, dtype: int64\n"
          ]
        }
      ]
    },
    {
      "cell_type": "code",
      "source": [],
      "metadata": {
        "id": "qhKoRSKVuLTJ"
      },
      "execution_count": null,
      "outputs": []
    }
  ]
}