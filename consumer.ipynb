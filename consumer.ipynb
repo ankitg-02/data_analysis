{
  "nbformat": 4,
  "nbformat_minor": 0,
  "metadata": {
    "colab": {
      "provenance": [],
      "authorship_tag": "ABX9TyPiXt+G1J90q3GWdFbfGKo+",
      "include_colab_link": true
    },
    "kernelspec": {
      "name": "python3",
      "display_name": "Python 3"
    },
    "language_info": {
      "name": "python"
    }
  },
  "cells": [
    {
      "cell_type": "markdown",
      "metadata": {
        "id": "view-in-github",
        "colab_type": "text"
      },
      "source": [
        "<a href=\"https://colab.research.google.com/github/ankitg-02/data_analysis/blob/main/consumer.ipynb\" target=\"_parent\"><img src=\"https://colab.research.google.com/assets/colab-badge.svg\" alt=\"Open In Colab\"/></a>"
      ]
    },
    {
      "cell_type": "code",
      "execution_count": 4,
      "metadata": {
        "id": "BgG8BI_ruZ9C"
      },
      "outputs": [],
      "source": [
        "import pandas as pd"
      ]
    },
    {
      "cell_type": "code",
      "source": [
        "consumer_sales=pd.read_excel(\"/content/Sample-sales-data-excel.xls\")"
      ],
      "metadata": {
        "id": "efaInDn1wbwM"
      },
      "execution_count": 6,
      "outputs": []
    },
    {
      "cell_type": "code",
      "source": [
        "count_conumer=0\n",
        "for i in consumer_sales['Segment']:\n",
        "  if i=='Consumer':\n",
        "    count_conumer+=1\n",
        "print(\"count of conumers=\",count_conumer)"
      ],
      "metadata": {
        "colab": {
          "base_uri": "https://localhost:8080/"
        },
        "id": "oVla36zIwx3F",
        "outputId": "3cbc3390-d031-4ac4-8fc9-4ac388931031"
      },
      "execution_count": 7,
      "outputs": [
        {
          "output_type": "stream",
          "name": "stdout",
          "text": [
            "count of conumers= 5191\n"
          ]
        }
      ]
    },
    {
      "cell_type": "code",
      "source": [
        "record=consumer_sales.groupby('Segment')\n",
        "print(record.Category)"
      ],
      "metadata": {
        "colab": {
          "base_uri": "https://localhost:8080/"
        },
        "id": "OaWlTwHhzrsr",
        "outputId": "29fb86fc-611c-4e4f-c130-5f2ef4497c96"
      },
      "execution_count": 11,
      "outputs": [
        {
          "output_type": "stream",
          "name": "stdout",
          "text": [
            "<pandas.core.groupby.generic.SeriesGroupBy object at 0x7e40f07efac0>\n"
          ]
        }
      ]
    },
    {
      "cell_type": "code",
      "source": [
        "for Segment,Segment_df in record:\n",
        "  print(Segment_df.head())\n"
      ],
      "metadata": {
        "colab": {
          "base_uri": "https://localhost:8080/"
        },
        "id": "J64C8Xs6skT0",
        "outputId": "a4b3f34b-d46e-457e-8400-661c208de00e"
      },
      "execution_count": 17,
      "outputs": [
        {
          "output_type": "stream",
          "name": "stdout",
          "text": [
            "   Row ID        Order ID Order Date  Ship Date       Ship Mode Customer ID  \\\n",
            "0       1  CA-2016-152156 2016-11-08 2016-11-11    Second Class    CG-12520   \n",
            "1       2  CA-2016-152156 2016-11-08 2016-11-11    Second Class    CG-12520   \n",
            "3       4  US-2015-108966 2015-10-11 2015-10-18  Standard Class    SO-20335   \n",
            "4       5  US-2015-108966 2015-10-11 2015-10-18  Standard Class    SO-20335   \n",
            "5       6  CA-2014-115812 2014-06-09 2014-06-14  Standard Class    BH-11710   \n",
            "\n",
            "     Customer Name   Segment        Country             City  ... Postal Code  \\\n",
            "0      Claire Gute  Consumer  United States        Henderson  ...       42420   \n",
            "1      Claire Gute  Consumer  United States        Henderson  ...       42420   \n",
            "3   Sean O'Donnell  Consumer  United States  Fort Lauderdale  ...       33311   \n",
            "4   Sean O'Donnell  Consumer  United States  Fort Lauderdale  ...       33311   \n",
            "5  Brosina Hoffman  Consumer  United States      Los Angeles  ...       90032   \n",
            "\n",
            "   Region       Product ID         Category Sub-Category  \\\n",
            "0   South  FUR-BO-10001798        Furniture    Bookcases   \n",
            "1   South  FUR-CH-10000454        Furniture       Chairs   \n",
            "3   South  FUR-TA-10000577        Furniture       Tables   \n",
            "4   South  OFF-ST-10000760  Office Supplies      Storage   \n",
            "5    West  FUR-FU-10001487        Furniture  Furnishings   \n",
            "\n",
            "                                        Product Name     Sales  Quantity  \\\n",
            "0                  Bush Somerset Collection Bookcase  261.9600         2   \n",
            "1  Hon Deluxe Fabric Upholstered Stacking Chairs,...  731.9400         3   \n",
            "3      Bretford CR4500 Series Slim Rectangular Table  957.5775         5   \n",
            "4                     Eldon Fold 'N Roll Cart System   22.3680         2   \n",
            "5  Eldon Expressions Wood and Plastic Desk Access...   48.8600         7   \n",
            "\n",
            "   Discount    Profit  \n",
            "0      0.00   41.9136  \n",
            "1      0.00  219.5820  \n",
            "3      0.45 -383.0310  \n",
            "4      0.20    2.5164  \n",
            "5      0.00   14.1694  \n",
            "\n",
            "[5 rows x 21 columns]\n",
            "    Row ID        Order ID Order Date  Ship Date       Ship Mode Customer ID  \\\n",
            "2        3  CA-2016-138688 2016-06-12 2016-06-16    Second Class    DV-13045   \n",
            "21      22  CA-2016-137330 2016-12-09 2016-12-13  Standard Class    KB-16585   \n",
            "22      23  CA-2016-137330 2016-12-09 2016-12-13  Standard Class    KB-16585   \n",
            "35      36  CA-2016-117590 2016-12-08 2016-12-10     First Class    GH-14485   \n",
            "36      37  CA-2016-117590 2016-12-08 2016-12-10     First Class    GH-14485   \n",
            "\n",
            "      Customer Name    Segment        Country         City  ... Postal Code  \\\n",
            "2   Darrin Van Huff  Corporate  United States  Los Angeles  ...       90036   \n",
            "21        Ken Black  Corporate  United States      Fremont  ...       68025   \n",
            "22        Ken Black  Corporate  United States      Fremont  ...       68025   \n",
            "35        Gene Hale  Corporate  United States   Richardson  ...       75080   \n",
            "36        Gene Hale  Corporate  United States   Richardson  ...       75080   \n",
            "\n",
            "     Region       Product ID         Category Sub-Category  \\\n",
            "2      West  OFF-LA-10000240  Office Supplies       Labels   \n",
            "21  Central  OFF-AR-10000246  Office Supplies          Art   \n",
            "22  Central  OFF-AP-10001492  Office Supplies   Appliances   \n",
            "35  Central  TEC-PH-10004977       Technology       Phones   \n",
            "36  Central  FUR-FU-10003664        Furniture  Furnishings   \n",
            "\n",
            "                                         Product Name     Sales  Quantity  \\\n",
            "2   Self-Adhesive Address Labels for Typewriters b...    14.620         2   \n",
            "21                                         Newell 318    19.460         7   \n",
            "22        Acco Six-Outlet Power Strip, 4' Cord Length    60.340         7   \n",
            "35                                        GE 30524EE4  1097.544         7   \n",
            "36  Electrix Architect's Clamp-On Swing Arm Lamp, ...   190.920         5   \n",
            "\n",
            "    Discount    Profit  \n",
            "2        0.0    6.8714  \n",
            "21       0.0    5.0596  \n",
            "22       0.0   15.6884  \n",
            "35       0.2  123.4737  \n",
            "36       0.6 -147.9630  \n",
            "\n",
            "[5 rows x 21 columns]\n",
            "    Row ID        Order ID Order Date  Ship Date       Ship Mode Customer ID  \\\n",
            "14      15  US-2015-118983 2015-11-22 2015-11-26  Standard Class    HP-14815   \n",
            "15      16  US-2015-118983 2015-11-22 2015-11-26  Standard Class    HP-14815   \n",
            "34      35  CA-2017-107727 2017-10-19 2017-10-23    Second Class    MA-17560   \n",
            "37      38  CA-2015-117415 2015-12-27 2015-12-31  Standard Class    SN-20710   \n",
            "38      39  CA-2015-117415 2015-12-27 2015-12-31  Standard Class    SN-20710   \n",
            "\n",
            "    Customer Name      Segment        Country        City  ... Postal Code  \\\n",
            "14  Harold Pawlan  Home Office  United States  Fort Worth  ...       76106   \n",
            "15  Harold Pawlan  Home Office  United States  Fort Worth  ...       76106   \n",
            "34   Matt Abelman  Home Office  United States     Houston  ...       77095   \n",
            "37   Steve Nguyen  Home Office  United States     Houston  ...       77041   \n",
            "38   Steve Nguyen  Home Office  United States     Houston  ...       77041   \n",
            "\n",
            "     Region       Product ID         Category Sub-Category  \\\n",
            "14  Central  OFF-AP-10002311  Office Supplies   Appliances   \n",
            "15  Central  OFF-BI-10000756  Office Supplies      Binders   \n",
            "34  Central  OFF-PA-10000249  Office Supplies        Paper   \n",
            "37  Central  OFF-EN-10002986  Office Supplies    Envelopes   \n",
            "38  Central  FUR-BO-10002545        Furniture    Bookcases   \n",
            "\n",
            "                                         Product Name     Sales  Quantity  \\\n",
            "14  Holmes Replacement Filter for HEPA Air Cleaner...   68.8100         5   \n",
            "15   Storex DuraTech Recycled Plastic Frosted Binders    2.5440         3   \n",
            "34                                  Easy-staple paper   29.4720         3   \n",
            "37  #10-4 1/8\" x 9 1/2\" Premium Diagonal Seam Enve...  113.3280         9   \n",
            "38  Atlantic Metals Mobile 3-Shelf Bookcases, Cust...  532.3992         3   \n",
            "\n",
            "    Discount    Profit  \n",
            "14      0.80 -123.8580  \n",
            "15      0.80   -3.8160  \n",
            "34      0.20    9.9468  \n",
            "37      0.20   35.4150  \n",
            "38      0.32  -46.9764  \n",
            "\n",
            "[5 rows x 21 columns]\n"
          ]
        }
      ]
    },
    {
      "cell_type": "code",
      "source": [],
      "metadata": {
        "id": "qhKoRSKVuLTJ"
      },
      "execution_count": null,
      "outputs": []
    }
  ]
}