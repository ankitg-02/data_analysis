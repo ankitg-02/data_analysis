{
  "nbformat": 4,
  "nbformat_minor": 0,
  "metadata": {
    "colab": {
      "provenance": [],
      "authorship_tag": "ABX9TyPT8qc7nJJ+0IZdhKLN6YQf",
      "include_colab_link": true
    },
    "kernelspec": {
      "name": "python3",
      "display_name": "Python 3"
    },
    "language_info": {
      "name": "python"
    }
  },
  "cells": [
    {
      "cell_type": "markdown",
      "metadata": {
        "id": "view-in-github",
        "colab_type": "text"
      },
      "source": [
        "<a href=\"https://colab.research.google.com/github/ankitg-02/sales_analysis/blob/main/sales_via_product.ipynb\" target=\"_parent\"><img src=\"https://colab.research.google.com/assets/colab-badge.svg\" alt=\"Open In Colab\"/></a>"
      ]
    },
    {
      "cell_type": "code",
      "execution_count": 1,
      "metadata": {
        "id": "3p4tN8O75SBg"
      },
      "outputs": [],
      "source": [
        "import pandas as pd\n",
        "import numpy as np\n",
        "from sklearn.model_selection import train_test_split\n",
        "from sklearn.preprocessing import StandardScaler\n",
        "from sklearn.feature_extraction.text import TfidfVectorizer"
      ]
    },
    {
      "cell_type": "code",
      "source": [
        "product_sales=pd.read_excel(\"/content/Sample-sales-data-excel.xls\")"
      ],
      "metadata": {
        "id": "zBD7_8Z55wY7"
      },
      "execution_count": 2,
      "outputs": []
    },
    {
      "cell_type": "code",
      "source": [
        "product=pd.DataFrame(product_sales)\n",
        "print(product)"
      ],
      "metadata": {
        "colab": {
          "base_uri": "https://localhost:8080/"
        },
        "id": "-VtoN_44-teu",
        "outputId": "07789382-6e38-4dcf-cd03-2fd3fd35ff3f"
      },
      "execution_count": 3,
      "outputs": [
        {
          "output_type": "stream",
          "name": "stdout",
          "text": [
            "      Row ID        Order ID Order Date  Ship Date       Ship Mode  \\\n",
            "0          1  CA-2016-152156 2016-11-08 2016-11-11    Second Class   \n",
            "1          2  CA-2016-152156 2016-11-08 2016-11-11    Second Class   \n",
            "2          3  CA-2016-138688 2016-06-12 2016-06-16    Second Class   \n",
            "3          4  US-2015-108966 2015-10-11 2015-10-18  Standard Class   \n",
            "4          5  US-2015-108966 2015-10-11 2015-10-18  Standard Class   \n",
            "...      ...             ...        ...        ...             ...   \n",
            "9989    9990  CA-2014-110422 2014-01-21 2014-01-23    Second Class   \n",
            "9990    9991  CA-2017-121258 2017-02-26 2017-03-03  Standard Class   \n",
            "9991    9992  CA-2017-121258 2017-02-26 2017-03-03  Standard Class   \n",
            "9992    9993  CA-2017-121258 2017-02-26 2017-03-03  Standard Class   \n",
            "9993    9994  CA-2017-119914 2017-05-04 2017-05-09    Second Class   \n",
            "\n",
            "     Customer ID     Customer Name    Segment        Country             City  \\\n",
            "0       CG-12520       Claire Gute   Consumer  United States        Henderson   \n",
            "1       CG-12520       Claire Gute   Consumer  United States        Henderson   \n",
            "2       DV-13045   Darrin Van Huff  Corporate  United States      Los Angeles   \n",
            "3       SO-20335    Sean O'Donnell   Consumer  United States  Fort Lauderdale   \n",
            "4       SO-20335    Sean O'Donnell   Consumer  United States  Fort Lauderdale   \n",
            "...          ...               ...        ...            ...              ...   \n",
            "9989    TB-21400  Tom Boeckenhauer   Consumer  United States            Miami   \n",
            "9990    DB-13060       Dave Brooks   Consumer  United States       Costa Mesa   \n",
            "9991    DB-13060       Dave Brooks   Consumer  United States       Costa Mesa   \n",
            "9992    DB-13060       Dave Brooks   Consumer  United States       Costa Mesa   \n",
            "9993    CC-12220      Chris Cortes   Consumer  United States      Westminster   \n",
            "\n",
            "      ... Postal Code  Region       Product ID         Category Sub-Category  \\\n",
            "0     ...       42420   South  FUR-BO-10001798        Furniture    Bookcases   \n",
            "1     ...       42420   South  FUR-CH-10000454        Furniture       Chairs   \n",
            "2     ...       90036    West  OFF-LA-10000240  Office Supplies       Labels   \n",
            "3     ...       33311   South  FUR-TA-10000577        Furniture       Tables   \n",
            "4     ...       33311   South  OFF-ST-10000760  Office Supplies      Storage   \n",
            "...   ...         ...     ...              ...              ...          ...   \n",
            "9989  ...       33180   South  FUR-FU-10001889        Furniture  Furnishings   \n",
            "9990  ...       92627    West  FUR-FU-10000747        Furniture  Furnishings   \n",
            "9991  ...       92627    West  TEC-PH-10003645       Technology       Phones   \n",
            "9992  ...       92627    West  OFF-PA-10004041  Office Supplies        Paper   \n",
            "9993  ...       92683    West  OFF-AP-10002684  Office Supplies   Appliances   \n",
            "\n",
            "                                           Product Name     Sales  Quantity  \\\n",
            "0                     Bush Somerset Collection Bookcase  261.9600         2   \n",
            "1     Hon Deluxe Fabric Upholstered Stacking Chairs,...  731.9400         3   \n",
            "2     Self-Adhesive Address Labels for Typewriters b...   14.6200         2   \n",
            "3         Bretford CR4500 Series Slim Rectangular Table  957.5775         5   \n",
            "4                        Eldon Fold 'N Roll Cart System   22.3680         2   \n",
            "...                                                 ...       ...       ...   \n",
            "9989                             Ultra Door Pull Handle   25.2480         3   \n",
            "9990  Tenex B1-RE Series Chair Mats for Low Pile Car...   91.9600         2   \n",
            "9991                              Aastra 57i VoIP phone  258.5760         2   \n",
            "9992  It's Hot Message Books with Stickers, 2 3/4\" x 5\"   29.6000         4   \n",
            "9993  Acco 7-Outlet Masterpiece Power Center, Wihtou...  243.1600         2   \n",
            "\n",
            "      Discount    Profit  \n",
            "0         0.00   41.9136  \n",
            "1         0.00  219.5820  \n",
            "2         0.00    6.8714  \n",
            "3         0.45 -383.0310  \n",
            "4         0.20    2.5164  \n",
            "...        ...       ...  \n",
            "9989      0.20    4.1028  \n",
            "9990      0.00   15.6332  \n",
            "9991      0.20   19.3932  \n",
            "9992      0.00   13.3200  \n",
            "9993      0.00   72.9480  \n",
            "\n",
            "[9994 rows x 21 columns]\n"
          ]
        }
      ]
    },
    {
      "cell_type": "code",
      "source": [
        "#sub-category items\n",
        "sub_div=product.groupby(\"Sub-Category\")"
      ],
      "metadata": {
        "id": "64_zHcEx-3fk"
      },
      "execution_count": 4,
      "outputs": []
    },
    {
      "cell_type": "code",
      "source": [
        "#count of every sub_category items\n",
        "count_of_sub_div=sub_div.count()\n",
        "print(count_of_sub_div)"
      ],
      "metadata": {
        "id": "Wq-inyNi_98d",
        "outputId": "aeef6421-46a8-4cb6-b514-7e42866076b1",
        "colab": {
          "base_uri": "https://localhost:8080/"
        }
      },
      "execution_count": 5,
      "outputs": [
        {
          "output_type": "stream",
          "name": "stdout",
          "text": [
            "              Row ID  Order ID  Order Date  Ship Date  Ship Mode  Customer ID  \\\n",
            "Sub-Category                                                                    \n",
            "Accessories      775       775         775        775        775          775   \n",
            "Appliances       466       466         466        466        466          466   \n",
            "Art              796       796         796        796        796          796   \n",
            "Binders         1523      1523        1523       1523       1523         1523   \n",
            "Bookcases        228       228         228        228        228          228   \n",
            "Chairs           617       617         617        617        617          617   \n",
            "Copiers           68        68          68         68         68           68   \n",
            "Envelopes        254       254         254        254        254          254   \n",
            "Fasteners        217       217         217        217        217          217   \n",
            "Furnishings      957       957         957        957        957          957   \n",
            "Labels           364       364         364        364        364          364   \n",
            "Machines         115       115         115        115        115          115   \n",
            "Paper           1370      1370        1370       1370       1370         1370   \n",
            "Phones           889       889         889        889        889          889   \n",
            "Storage          846       846         846        846        846          846   \n",
            "Supplies         190       190         190        190        190          190   \n",
            "Tables           319       319         319        319        319          319   \n",
            "\n",
            "              Customer Name  Segment  Country  City  State  Postal Code  \\\n",
            "Sub-Category                                                              \n",
            "Accessories             775      775      775   775    775          775   \n",
            "Appliances              466      466      466   466    466          466   \n",
            "Art                     796      796      796   796    796          796   \n",
            "Binders                1523     1523     1523  1523   1523         1523   \n",
            "Bookcases               228      228      228   228    228          228   \n",
            "Chairs                  617      617      617   617    617          617   \n",
            "Copiers                  68       68       68    68     68           68   \n",
            "Envelopes               254      254      254   254    254          254   \n",
            "Fasteners               217      217      217   217    217          217   \n",
            "Furnishings             957      957      957   957    957          957   \n",
            "Labels                  364      364      364   364    364          364   \n",
            "Machines                115      115      115   115    115          115   \n",
            "Paper                  1370     1370     1370  1370   1370         1370   \n",
            "Phones                  889      889      889   889    889          889   \n",
            "Storage                 846      846      846   846    846          846   \n",
            "Supplies                190      190      190   190    190          190   \n",
            "Tables                  319      319      319   319    319          319   \n",
            "\n",
            "              Region  Product ID  Category  Product Name  Sales  Quantity  \\\n",
            "Sub-Category                                                                \n",
            "Accessories      775         775       775           775    775       775   \n",
            "Appliances       466         466       466           466    466       466   \n",
            "Art              796         796       796           796    796       796   \n",
            "Binders         1523        1523      1523          1523   1523      1523   \n",
            "Bookcases        228         228       228           228    228       228   \n",
            "Chairs           617         617       617           617    617       617   \n",
            "Copiers           68          68        68            68     68        68   \n",
            "Envelopes        254         254       254           254    254       254   \n",
            "Fasteners        217         217       217           217    217       217   \n",
            "Furnishings      957         957       957           957    957       957   \n",
            "Labels           364         364       364           364    364       364   \n",
            "Machines         115         115       115           115    115       115   \n",
            "Paper           1370        1370      1370          1370   1370      1370   \n",
            "Phones           889         889       889           889    889       889   \n",
            "Storage          846         846       846           846    846       846   \n",
            "Supplies         190         190       190           190    190       190   \n",
            "Tables           319         319       319           319    319       319   \n",
            "\n",
            "              Discount  Profit  \n",
            "Sub-Category                    \n",
            "Accessories        775     775  \n",
            "Appliances         466     466  \n",
            "Art                796     796  \n",
            "Binders           1523    1523  \n",
            "Bookcases          228     228  \n",
            "Chairs             617     617  \n",
            "Copiers             68      68  \n",
            "Envelopes          254     254  \n",
            "Fasteners          217     217  \n",
            "Furnishings        957     957  \n",
            "Labels             364     364  \n",
            "Machines           115     115  \n",
            "Paper             1370    1370  \n",
            "Phones             889     889  \n",
            "Storage            846     846  \n",
            "Supplies           190     190  \n",
            "Tables             319     319  \n"
          ]
        }
      ]
    },
    {
      "cell_type": "code",
      "source": [
        "print(sub_div['Sales'].count().sort_values)"
      ],
      "metadata": {
        "id": "khUuUFyknUzX",
        "outputId": "e12265bd-bda7-4406-fda7-ab9cfafdaad8",
        "colab": {
          "base_uri": "https://localhost:8080/"
        }
      },
      "execution_count": 6,
      "outputs": [
        {
          "output_type": "stream",
          "name": "stdout",
          "text": [
            "<bound method Series.sort_values of Sub-Category\n",
            "Accessories     775\n",
            "Appliances      466\n",
            "Art             796\n",
            "Binders        1523\n",
            "Bookcases       228\n",
            "Chairs          617\n",
            "Copiers          68\n",
            "Envelopes       254\n",
            "Fasteners       217\n",
            "Furnishings     957\n",
            "Labels          364\n",
            "Machines        115\n",
            "Paper          1370\n",
            "Phones          889\n",
            "Storage         846\n",
            "Supplies        190\n",
            "Tables          319\n",
            "Name: Sales, dtype: int64>\n"
          ]
        }
      ]
    },
    {
      "cell_type": "code",
      "source": [
        "ship=product_sales.groupby(\"Ship Mode\")"
      ],
      "metadata": {
        "id": "wIEMtF5NuNe3"
      },
      "execution_count": 7,
      "outputs": []
    },
    {
      "cell_type": "code",
      "source": [
        "X=product_sales['Ship Mode']\n",
        "Y=product_sales.drop(\"Ship Mode\",axis=1)"
      ],
      "metadata": {
        "id": "E7JNkUyJnofF"
      },
      "execution_count": 8,
      "outputs": []
    },
    {
      "cell_type": "code",
      "source": [
        "X_train,X_test,Y_train,Y_test=train_test_split(X,Y,test_size=0.12,random_state=20,stratify=X)"
      ],
      "metadata": {
        "id": "BBGfVhoX0hWU"
      },
      "execution_count": 9,
      "outputs": []
    },
    {
      "cell_type": "code",
      "source": [
        "vectorizer=TfidfVectorizer()\n",
        "vectorizer.fit(X)\n",
        "X=vectorizer.transform(X)"
      ],
      "metadata": {
        "id": "8BCPWEllqyJ2"
      },
      "execution_count": 10,
      "outputs": []
    },
    {
      "cell_type": "code",
      "source": [
        "print(X)"
      ],
      "metadata": {
        "id": "7kOS1oaW0b78",
        "outputId": "83bf2309-eef8-4e8c-bd79-8c66065bde99",
        "colab": {
          "base_uri": "https://localhost:8080/"
        }
      },
      "execution_count": 11,
      "outputs": [
        {
          "output_type": "stream",
          "name": "stdout",
          "text": [
            "  (0, 4)\t0.9283145009730589\n",
            "  (0, 0)\t0.3717958946561142\n",
            "  (1, 4)\t0.9283145009730589\n",
            "  (1, 0)\t0.3717958946561142\n",
            "  (2, 4)\t0.9283145009730589\n",
            "  (2, 0)\t0.3717958946561142\n",
            "  (3, 5)\t0.820500463776403\n",
            "  (3, 0)\t0.5716458597267261\n",
            "  (4, 5)\t0.820500463776403\n",
            "  (4, 0)\t0.5716458597267261\n",
            "  (5, 5)\t0.820500463776403\n",
            "  (5, 0)\t0.5716458597267261\n",
            "  (6, 5)\t0.820500463776403\n",
            "  (6, 0)\t0.5716458597267261\n",
            "  (7, 5)\t0.820500463776403\n",
            "  (7, 0)\t0.5716458597267261\n",
            "  (8, 5)\t0.820500463776403\n",
            "  (8, 0)\t0.5716458597267261\n",
            "  (9, 5)\t0.820500463776403\n",
            "  (9, 0)\t0.5716458597267261\n",
            "  (10, 5)\t0.820500463776403\n",
            "  (10, 0)\t0.5716458597267261\n",
            "  (11, 5)\t0.820500463776403\n",
            "  (11, 0)\t0.5716458597267261\n",
            "  (12, 5)\t0.820500463776403\n",
            "  :\t:\n",
            "  (9981, 0)\t0.34516975105861\n",
            "  (9982, 5)\t0.820500463776403\n",
            "  (9982, 0)\t0.5716458597267261\n",
            "  (9983, 5)\t0.820500463776403\n",
            "  (9983, 0)\t0.5716458597267261\n",
            "  (9984, 5)\t0.820500463776403\n",
            "  (9984, 0)\t0.5716458597267261\n",
            "  (9985, 5)\t0.820500463776403\n",
            "  (9985, 0)\t0.5716458597267261\n",
            "  (9986, 5)\t0.820500463776403\n",
            "  (9986, 0)\t0.5716458597267261\n",
            "  (9987, 5)\t0.820500463776403\n",
            "  (9987, 0)\t0.5716458597267261\n",
            "  (9988, 5)\t0.820500463776403\n",
            "  (9988, 0)\t0.5716458597267261\n",
            "  (9989, 4)\t0.9283145009730589\n",
            "  (9989, 0)\t0.3717958946561142\n",
            "  (9990, 5)\t0.820500463776403\n",
            "  (9990, 0)\t0.5716458597267261\n",
            "  (9991, 5)\t0.820500463776403\n",
            "  (9991, 0)\t0.5716458597267261\n",
            "  (9992, 5)\t0.820500463776403\n",
            "  (9992, 0)\t0.5716458597267261\n",
            "  (9993, 4)\t0.9283145009730589\n",
            "  (9993, 0)\t0.3717958946561142\n"
          ]
        }
      ]
    },
    {
      "cell_type": "code",
      "source": [
        "from sklearn.linear_model import LinearRegression"
      ],
      "metadata": {
        "id": "W999rFrd0mPW"
      },
      "execution_count": 12,
      "outputs": []
    },
    {
      "cell_type": "code",
      "source": [
        "model=LinearRegression()"
      ],
      "metadata": {
        "id": "UGikjH-cMiqn"
      },
      "execution_count": 13,
      "outputs": []
    },
    {
      "cell_type": "code",
      "source": [
        "model.fit(X,X_train)"
      ],
      "metadata": {
        "id": "0a_wDfi9Mmmf",
        "outputId": "58e1cb28-d81e-4980-9892-0ffe263d9144",
        "colab": {
          "base_uri": "https://localhost:8080/",
          "height": 314
        }
      },
      "execution_count": 16,
      "outputs": [
        {
          "output_type": "error",
          "ename": "ValueError",
          "evalue": "could not convert string to float: 'Standard Class'",
          "traceback": [
            "\u001b[0;31m---------------------------------------------------------------------------\u001b[0m",
            "\u001b[0;31mValueError\u001b[0m                                Traceback (most recent call last)",
            "\u001b[0;32m<ipython-input-16-a1db76e321a3>\u001b[0m in \u001b[0;36m<cell line: 1>\u001b[0;34m()\u001b[0m\n\u001b[0;32m----> 1\u001b[0;31m \u001b[0mmodel\u001b[0m\u001b[0;34m.\u001b[0m\u001b[0mfit\u001b[0m\u001b[0;34m(\u001b[0m\u001b[0mX\u001b[0m\u001b[0;34m,\u001b[0m\u001b[0mX_train\u001b[0m\u001b[0;34m)\u001b[0m\u001b[0;34m\u001b[0m\u001b[0;34m\u001b[0m\u001b[0m\n\u001b[0m",
            "\u001b[0;32m/usr/local/lib/python3.10/dist-packages/sklearn/linear_model/_base.py\u001b[0m in \u001b[0;36mfit\u001b[0;34m(self, X, y, sample_weight)\u001b[0m\n\u001b[1;32m    646\u001b[0m         \u001b[0maccept_sparse\u001b[0m \u001b[0;34m=\u001b[0m \u001b[0;32mFalse\u001b[0m \u001b[0;32mif\u001b[0m \u001b[0mself\u001b[0m\u001b[0;34m.\u001b[0m\u001b[0mpositive\u001b[0m \u001b[0;32melse\u001b[0m \u001b[0;34m[\u001b[0m\u001b[0;34m\"csr\"\u001b[0m\u001b[0;34m,\u001b[0m \u001b[0;34m\"csc\"\u001b[0m\u001b[0;34m,\u001b[0m \u001b[0;34m\"coo\"\u001b[0m\u001b[0;34m]\u001b[0m\u001b[0;34m\u001b[0m\u001b[0;34m\u001b[0m\u001b[0m\n\u001b[1;32m    647\u001b[0m \u001b[0;34m\u001b[0m\u001b[0m\n\u001b[0;32m--> 648\u001b[0;31m         X, y = self._validate_data(\n\u001b[0m\u001b[1;32m    649\u001b[0m             \u001b[0mX\u001b[0m\u001b[0;34m,\u001b[0m \u001b[0my\u001b[0m\u001b[0;34m,\u001b[0m \u001b[0maccept_sparse\u001b[0m\u001b[0;34m=\u001b[0m\u001b[0maccept_sparse\u001b[0m\u001b[0;34m,\u001b[0m \u001b[0my_numeric\u001b[0m\u001b[0;34m=\u001b[0m\u001b[0;32mTrue\u001b[0m\u001b[0;34m,\u001b[0m \u001b[0mmulti_output\u001b[0m\u001b[0;34m=\u001b[0m\u001b[0;32mTrue\u001b[0m\u001b[0;34m\u001b[0m\u001b[0;34m\u001b[0m\u001b[0m\n\u001b[1;32m    650\u001b[0m         )\n",
            "\u001b[0;32m/usr/local/lib/python3.10/dist-packages/sklearn/base.py\u001b[0m in \u001b[0;36m_validate_data\u001b[0;34m(self, X, y, reset, validate_separately, **check_params)\u001b[0m\n\u001b[1;32m    582\u001b[0m                 \u001b[0my\u001b[0m \u001b[0;34m=\u001b[0m \u001b[0mcheck_array\u001b[0m\u001b[0;34m(\u001b[0m\u001b[0my\u001b[0m\u001b[0;34m,\u001b[0m \u001b[0minput_name\u001b[0m\u001b[0;34m=\u001b[0m\u001b[0;34m\"y\"\u001b[0m\u001b[0;34m,\u001b[0m \u001b[0;34m**\u001b[0m\u001b[0mcheck_y_params\u001b[0m\u001b[0;34m)\u001b[0m\u001b[0;34m\u001b[0m\u001b[0;34m\u001b[0m\u001b[0m\n\u001b[1;32m    583\u001b[0m             \u001b[0;32melse\u001b[0m\u001b[0;34m:\u001b[0m\u001b[0;34m\u001b[0m\u001b[0;34m\u001b[0m\u001b[0m\n\u001b[0;32m--> 584\u001b[0;31m                 \u001b[0mX\u001b[0m\u001b[0;34m,\u001b[0m \u001b[0my\u001b[0m \u001b[0;34m=\u001b[0m \u001b[0mcheck_X_y\u001b[0m\u001b[0;34m(\u001b[0m\u001b[0mX\u001b[0m\u001b[0;34m,\u001b[0m \u001b[0my\u001b[0m\u001b[0;34m,\u001b[0m \u001b[0;34m**\u001b[0m\u001b[0mcheck_params\u001b[0m\u001b[0;34m)\u001b[0m\u001b[0;34m\u001b[0m\u001b[0;34m\u001b[0m\u001b[0m\n\u001b[0m\u001b[1;32m    585\u001b[0m             \u001b[0mout\u001b[0m \u001b[0;34m=\u001b[0m \u001b[0mX\u001b[0m\u001b[0;34m,\u001b[0m \u001b[0my\u001b[0m\u001b[0;34m\u001b[0m\u001b[0;34m\u001b[0m\u001b[0m\n\u001b[1;32m    586\u001b[0m \u001b[0;34m\u001b[0m\u001b[0m\n",
            "\u001b[0;32m/usr/local/lib/python3.10/dist-packages/sklearn/utils/validation.py\u001b[0m in \u001b[0;36mcheck_X_y\u001b[0;34m(X, y, accept_sparse, accept_large_sparse, dtype, order, copy, force_all_finite, ensure_2d, allow_nd, multi_output, ensure_min_samples, ensure_min_features, y_numeric, estimator)\u001b[0m\n\u001b[1;32m   1120\u001b[0m     )\n\u001b[1;32m   1121\u001b[0m \u001b[0;34m\u001b[0m\u001b[0m\n\u001b[0;32m-> 1122\u001b[0;31m     \u001b[0my\u001b[0m \u001b[0;34m=\u001b[0m \u001b[0m_check_y\u001b[0m\u001b[0;34m(\u001b[0m\u001b[0my\u001b[0m\u001b[0;34m,\u001b[0m \u001b[0mmulti_output\u001b[0m\u001b[0;34m=\u001b[0m\u001b[0mmulti_output\u001b[0m\u001b[0;34m,\u001b[0m \u001b[0my_numeric\u001b[0m\u001b[0;34m=\u001b[0m\u001b[0my_numeric\u001b[0m\u001b[0;34m,\u001b[0m \u001b[0mestimator\u001b[0m\u001b[0;34m=\u001b[0m\u001b[0mestimator\u001b[0m\u001b[0;34m)\u001b[0m\u001b[0;34m\u001b[0m\u001b[0;34m\u001b[0m\u001b[0m\n\u001b[0m\u001b[1;32m   1123\u001b[0m \u001b[0;34m\u001b[0m\u001b[0m\n\u001b[1;32m   1124\u001b[0m     \u001b[0mcheck_consistent_length\u001b[0m\u001b[0;34m(\u001b[0m\u001b[0mX\u001b[0m\u001b[0;34m,\u001b[0m \u001b[0my\u001b[0m\u001b[0;34m)\u001b[0m\u001b[0;34m\u001b[0m\u001b[0;34m\u001b[0m\u001b[0m\n",
            "\u001b[0;32m/usr/local/lib/python3.10/dist-packages/sklearn/utils/validation.py\u001b[0m in \u001b[0;36m_check_y\u001b[0;34m(y, multi_output, y_numeric, estimator)\u001b[0m\n\u001b[1;32m   1145\u001b[0m         \u001b[0m_ensure_no_complex_data\u001b[0m\u001b[0;34m(\u001b[0m\u001b[0my\u001b[0m\u001b[0;34m)\u001b[0m\u001b[0;34m\u001b[0m\u001b[0;34m\u001b[0m\u001b[0m\n\u001b[1;32m   1146\u001b[0m     \u001b[0;32mif\u001b[0m \u001b[0my_numeric\u001b[0m \u001b[0;32mand\u001b[0m \u001b[0my\u001b[0m\u001b[0;34m.\u001b[0m\u001b[0mdtype\u001b[0m\u001b[0;34m.\u001b[0m\u001b[0mkind\u001b[0m \u001b[0;34m==\u001b[0m \u001b[0;34m\"O\"\u001b[0m\u001b[0;34m:\u001b[0m\u001b[0;34m\u001b[0m\u001b[0;34m\u001b[0m\u001b[0m\n\u001b[0;32m-> 1147\u001b[0;31m         \u001b[0my\u001b[0m \u001b[0;34m=\u001b[0m \u001b[0my\u001b[0m\u001b[0;34m.\u001b[0m\u001b[0mastype\u001b[0m\u001b[0;34m(\u001b[0m\u001b[0mnp\u001b[0m\u001b[0;34m.\u001b[0m\u001b[0mfloat64\u001b[0m\u001b[0;34m)\u001b[0m\u001b[0;34m\u001b[0m\u001b[0;34m\u001b[0m\u001b[0m\n\u001b[0m\u001b[1;32m   1148\u001b[0m \u001b[0;34m\u001b[0m\u001b[0m\n\u001b[1;32m   1149\u001b[0m     \u001b[0;32mreturn\u001b[0m \u001b[0my\u001b[0m\u001b[0;34m\u001b[0m\u001b[0;34m\u001b[0m\u001b[0m\n",
            "\u001b[0;31mValueError\u001b[0m: could not convert string to float: 'Standard Class'"
          ]
        }
      ]
    },
    {
      "cell_type": "code",
      "source": [],
      "metadata": {
        "id": "lBKWzSUlNG2Y"
      },
      "execution_count": null,
      "outputs": []
    }
  ]
}