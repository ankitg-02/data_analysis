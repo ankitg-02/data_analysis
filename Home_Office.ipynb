{
  "nbformat": 4,
  "nbformat_minor": 0,
  "metadata": {
    "colab": {
      "provenance": [],
      "authorship_tag": "ABX9TyNXMYPffQjcFe7bHdunt2bF",
      "include_colab_link": true
    },
    "kernelspec": {
      "name": "python3",
      "display_name": "Python 3"
    },
    "language_info": {
      "name": "python"
    }
  },
  "cells": [
    {
      "cell_type": "markdown",
      "metadata": {
        "id": "view-in-github",
        "colab_type": "text"
      },
      "source": [
        "<a href=\"https://colab.research.google.com/github/ankitg-02/data_analysis/blob/main/Home_Office.ipynb\" target=\"_parent\"><img src=\"https://colab.research.google.com/assets/colab-badge.svg\" alt=\"Open In Colab\"/></a>"
      ]
    },
    {
      "cell_type": "code",
      "execution_count": 1,
      "metadata": {
        "id": "RDdpXdNkcZKH"
      },
      "outputs": [],
      "source": [
        "import pandas as pd"
      ]
    },
    {
      "cell_type": "code",
      "source": [
        "home_office_sales=pd.read_excel(\"/content/Sample-sales-data-excel.xls\")\n",
        "count_home_office=0\n",
        "for i in home_office_sales['Segment']:\n",
        "  if i=='Home Office':\n",
        "    count_home_office+=1\n",
        "print(\"count of home offices=\",count_home_office)\n",
        "record_home_office=home_office_sales.groupby('Segment')\n",
        "print(record_home_office.Category.get_group(\"Home Office\").value_counts())"
      ],
      "metadata": {
        "colab": {
          "base_uri": "https://localhost:8080/"
        },
        "id": "BMyvV_olchU1",
        "outputId": "ccc1509c-826a-4367-fecd-bfac1ee68ff1"
      },
      "execution_count": 2,
      "outputs": [
        {
          "output_type": "stream",
          "name": "stdout",
          "text": [
            "count of home offices= 1783\n",
            "Office Supplies    1079\n",
            "Furniture           362\n",
            "Technology          342\n",
            "Name: Category, dtype: int64\n"
          ]
        }
      ]
    },
    {
      "cell_type": "code",
      "source": [],
      "metadata": {
        "id": "H9Ge8fb5dO9B"
      },
      "execution_count": 2,
      "outputs": []
    }
  ]
}